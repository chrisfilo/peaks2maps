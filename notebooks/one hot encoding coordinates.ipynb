{
 "cells": [
  {
   "cell_type": "code",
   "execution_count": 9,
   "metadata": {},
   "outputs": [],
   "source": [
    "import numpy as np\n",
    "target_shape = (32,32,32)\n",
    "def _get_resize_arg(target_shape):\n",
    "    mni_shape_mm = np.array([148.0, 184.0, 156.0])\n",
    "    target_resolution_mm = np.ceil(\n",
    "        mni_shape_mm / np.array(target_shape)).astype(\n",
    "        np.int32)\n",
    "    target_affine = np.array([[4., 0., 0., -75.],\n",
    "                              [0., 4., 0., -105.],\n",
    "                              [0., 0., 4., -70.],\n",
    "                              [0., 0., 0., 1.]])\n",
    "    target_affine[0, 0] = target_resolution_mm[0]\n",
    "    target_affine[1, 1] = target_resolution_mm[1]\n",
    "    target_affine[2, 2] = target_resolution_mm[2]\n",
    "    return target_affine, list(target_shape)"
   ]
  },
  {
   "cell_type": "code",
   "execution_count": 10,
   "metadata": {},
   "outputs": [],
   "source": [
    "affine, _ = _get_resize_arg(target_shape)"
   ]
  },
  {
   "cell_type": "code",
   "execution_count": 11,
   "metadata": {},
   "outputs": [
    {
     "data": {
      "text/plain": [
       "array([[   5.,    0.,    0.,  -75.],\n",
       "       [   0.,    6.,    0., -105.],\n",
       "       [   0.,    0.,    5.,  -70.],\n",
       "       [   0.,    0.,    0.,    1.]])"
      ]
     },
     "execution_count": 11,
     "metadata": {},
     "output_type": "execute_result"
    }
   ],
   "source": [
    "affine"
   ]
  },
  {
   "cell_type": "code",
   "execution_count": 27,
   "metadata": {},
   "outputs": [],
   "source": [
    "import numpy.linalg as npl\n",
    "import nibabel as nb\n",
    "real_pt = (75, 24 , 30)\n",
    "vox_pt = np.rint(nb.affines.apply_affine(npl.inv(affine), real_pt)).astype(int)"
   ]
  },
  {
   "cell_type": "code",
   "execution_count": 24,
   "metadata": {},
   "outputs": [],
   "source": [
    "encoded_coords = np.zeros(target_shape)\n",
    "encoded_coords[30,22,20] = 1"
   ]
  },
  {
   "cell_type": "code",
   "execution_count": 25,
   "metadata": {},
   "outputs": [],
   "source": [
    "nii = nb.Nifti1Image(encoded_coords, affine)"
   ]
  },
  {
   "cell_type": "code",
   "execution_count": 26,
   "metadata": {},
   "outputs": [],
   "source": [
    "nii.to_filename(\"C:/scratch/test.nii.gz\")"
   ]
  },
  {
   "cell_type": "code",
   "execution_count": 28,
   "metadata": {},
   "outputs": [
    {
     "data": {
      "text/plain": [
       "array([30, 22, 20])"
      ]
     },
     "execution_count": 28,
     "metadata": {},
     "output_type": "execute_result"
    }
   ],
   "source": [
    "vox_pt"
   ]
  },
  {
   "cell_type": "code",
   "execution_count": 23,
   "metadata": {},
   "outputs": [
    {
     "data": {
      "text/plain": [
       "(32, 32, 32)"
      ]
     },
     "execution_count": 23,
     "metadata": {},
     "output_type": "execute_result"
    }
   ],
   "source": [
    "encoded_coords.shape"
   ]
  },
  {
   "cell_type": "code",
   "execution_count": null,
   "metadata": {},
   "outputs": [],
   "source": []
  }
 ],
 "metadata": {
  "kernelspec": {
   "display_name": "Python 3",
   "language": "python",
   "name": "python3"
  },
  "language_info": {
   "codemirror_mode": {
    "name": "ipython",
    "version": 3
   },
   "file_extension": ".py",
   "mimetype": "text/x-python",
   "name": "python",
   "nbconvert_exporter": "python",
   "pygments_lexer": "ipython3",
   "version": "3.6.5"
  }
 },
 "nbformat": 4,
 "nbformat_minor": 2
}
