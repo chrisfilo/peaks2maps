{
 "cells": [
  {
   "cell_type": "code",
   "execution_count": 1,
   "metadata": {},
   "outputs": [
    {
     "name": "stderr",
     "output_type": "stream",
     "text": [
      "C:\\Users\\filo\\Anaconda3\\lib\\site-packages\\h5py\\__init__.py:36: FutureWarning: Conversion of the second argument of issubdtype from `float` to `np.floating` is deprecated. In future, it will be treated as `np.float64 == np.dtype(float).type`.\n",
      "  from ._conv import register_converters as _register_converters\n",
      "C:\\Users\\filo\\Anaconda3\\lib\\site-packages\\dicom\\__init__.py:53: UserWarning: \n",
      "This code is using an older version of pydicom, which is no longer \n",
      "maintained as of Jan 2017.  You can access the new pydicom features and API \n",
      "by installing `pydicom` from PyPI.\n",
      "See 'Transitioning to pydicom 1.x' section at pydicom.readthedocs.org \n",
      "for more information.\n",
      "\n",
      "  warnings.warn(msg)\n"
     ]
    }
   ],
   "source": [
    "import matplotlib as mpl\n",
    "%matplotlib inline\n",
    "\n",
    "from glob import glob\n",
    "import tensorflow as tf\n",
    "import os\n",
    "import nibabel as nb\n",
    "import numpy as np\n",
    "from nilearn import image\n",
    "from nilearn.plotting import plot_glass_brain\n",
    "from skimage.feature import peak_local_max\n",
    "import random\n",
    "import io\n",
    "import scipy.ndimage\n",
    "\n",
    "def _get_resize_arg(target_shape):\n",
    "    mni_shape_mm = np.array([148.0, 184.0, 156.0])\n",
    "    target_resolution_mm = np.ceil(\n",
    "        mni_shape_mm / np.array(target_shape)).astype(\n",
    "        np.int32)\n",
    "    target_affine = np.array([[4., 0., 0., -75.],\n",
    "                              [0., 4., 0., -105.],\n",
    "                              [0., 0., 4., -70.],\n",
    "                              [0., 0., 0., 1.]])\n",
    "    target_affine[0, 0] = target_resolution_mm[0]\n",
    "    target_affine[1, 1] = target_resolution_mm[1]\n",
    "    target_affine[2, 2] = target_resolution_mm[2]\n",
    "    return target_affine, list(target_shape)\n"
   ]
  },
  {
   "cell_type": "code",
   "execution_count": 21,
   "metadata": {},
   "outputs": [],
   "source": [
    "def count_peaks(path, target_shape, smoothness_level, cluster_forming_thr, cluster_size_thr, min_distance, num_peaks_per_label):\n",
    "    \n",
    "    def _get_resize_arg(target_shape):\n",
    "        mni_shape_mm = np.array([148.0, 184.0, 156.0])\n",
    "        target_resolution_mm = np.ceil(\n",
    "            mni_shape_mm / np.array(target_shape)).astype(\n",
    "            np.int32)\n",
    "        target_affine = np.array([[4., 0., 0., -75.],\n",
    "                                  [0., 4., 0., -105.],\n",
    "                                  [0., 0., 4., -70.],\n",
    "                                  [0., 0., 0., 1.]])\n",
    "        target_affine[0, 0] = target_resolution_mm[0]\n",
    "        target_affine[1, 1] = target_resolution_mm[1]\n",
    "        target_affine[2, 2] = target_resolution_mm[2]\n",
    "        return target_affine, list(target_shape)\n",
    "    \n",
    "    target_affine, target_shape = _get_resize_arg(target_shape)\n",
    "\n",
    "    path_str = path\n",
    "    filename = path_str.split(os.sep)[-1]\n",
    "    nii = nb.load(path_str)\n",
    "    data = nii.get_data()\n",
    "    data[np.isnan(data)] = 0\n",
    "    nii = nb.Nifti1Image(data, nii.affine)\n",
    "    nii = image.resample_img(nii,\n",
    "                             target_affine=target_affine,\n",
    "                             target_shape=target_shape)\n",
    "    if smoothness_level:\n",
    "        nii = image.smooth_img(nii, smoothness_level)\n",
    "    data = nii.get_data()\n",
    "    \n",
    "    # normalization\n",
    "    m = np.max(np.abs(data))\n",
    "    if m != np.max(data):\n",
    "        data = data*-1\n",
    "    data = data / m\n",
    "    data = data.astype(np.float32)\n",
    "    \n",
    "    new = np.zeros_like(data)\n",
    "    new[data > cluster_forming_thr] = 1\n",
    "    if new.sum() > 0:\n",
    "        labels, n_features = scipy.ndimage.label(new)\n",
    "        for j in range(1, n_features+1):\n",
    "            if (labels == j).sum() < cluster_size_thr:\n",
    "                labels[labels == j] = 0\n",
    "        peaks = peak_local_max(data, indices=False, min_distance=min_distance,\n",
    "                               num_peaks_per_label=num_peaks_per_label,\n",
    "                               labels=labels,\n",
    "                               threshold_abs=cluster_forming_thr).astype(np.float32)\n",
    "        return peaks[peaks > 0].sum()\n",
    "    else:\n",
    "        return 0"
   ]
  },
  {
   "cell_type": "code",
   "execution_count": 30,
   "metadata": {},
   "outputs": [],
   "source": [
    "from glob import glob\n",
    "from joblib import Parallel, delayed\n",
    "from math import sqrt\n",
    "peak_counts = Parallel(n_jobs=4)(delayed(count_peaks)(path,\n",
    "                                                      target_shape=(32,32,32), \n",
    "                                                      smoothness_level=0, \n",
    "                                                      cluster_forming_thr=0.6, \n",
    "                                                      cluster_size_thr=5,\n",
    "                                                      min_distance=1,\n",
    "                                                      num_peaks_per_label=45) for path in glob(\"D:/data/neurovault/neurovault/vetted/train/*.nii.gz\"))\n",
    "    "
   ]
  },
  {
   "cell_type": "code",
   "execution_count": 31,
   "metadata": {},
   "outputs": [
    {
     "name": "stderr",
     "output_type": "stream",
     "text": [
      "C:\\Users\\filo\\Anaconda3\\lib\\site-packages\\matplotlib\\axes\\_axes.py:6462: UserWarning: The 'normed' kwarg is deprecated, and has been replaced by the 'density' kwarg.\n",
      "  warnings.warn(\"The 'normed' kwarg is deprecated, and has been \"\n",
      "C:\\Users\\filo\\Anaconda3\\lib\\site-packages\\matplotlib\\figure.py:459: UserWarning: matplotlib is currently using a non-GUI backend, so cannot show the figure\n",
      "  \"matplotlib is currently using a non-GUI backend, \"\n"
     ]
    },
    {
     "data": {
      "image/png": "[encoded data removed]",
      "text/plain": [
       "<Figure size 1080x576 with 1 Axes>"
      ]
     },
     "metadata": {},
     "output_type": "display_data"
    }
   ],
   "source": [
    "import seaborn as sns\n",
    "import pylab as plt\n",
    "from scipy import stats\n",
    "fig, ax = plt.subplots(figsize=(15, 8))\n",
    "sns.distplot([peak_count for peak_count in peak_counts if peak_count > 0], ax=ax, kde=False, fit=stats.exponnorm, )\n",
    "ax.set_xlim((0, 80))\n",
    "fig.show()"
   ]
  },
  {
   "cell_type": "code",
   "execution_count": 5,
   "metadata": {},
   "outputs": [
    {
     "data": {
      "text/plain": [
       "14634"
      ]
     },
     "execution_count": 5,
     "metadata": {},
     "output_type": "execute_result"
    }
   ],
   "source": [
    "len(peak_counts)"
   ]
  },
  {
   "cell_type": "code",
   "execution_count": null,
   "metadata": {},
   "outputs": [],
   "source": []
  }
 ],
 "metadata": {
  "kernelspec": {
   "display_name": "Python 3",
   "language": "python",
   "name": "python3"
  },
  "language_info": {
   "codemirror_mode": {
    "name": "ipython",
    "version": 3
   },
   "file_extension": ".py",
   "mimetype": "text/x-python",
   "name": "python",
   "nbconvert_exporter": "python",
   "pygments_lexer": "ipython3",
   "version": "3.6.5"
  }
 },
 "nbformat": 4,
 "nbformat_minor": 2
}
